{
 "cells": [
  {
   "cell_type": "code",
   "execution_count": 7,
   "id": "0db3fdc0-5114-4e4d-99ac-143fe08fe04e",
   "metadata": {},
   "outputs": [
    {
     "name": "stdout",
     "output_type": "stream",
     "text": [
      "enter a number 5\n",
      "enter a number 3\n",
      "enter a number 2\n"
     ]
    },
    {
     "name": "stdout",
     "output_type": "stream",
     "text": [
      "z is smaller\n"
     ]
    }
   ],
   "source": [
    "x=input(\"enter a number\");\n",
    "y=input(\"enter a number\");\n",
    "z=input(\"enter a number\");\n",
    "if(x>y>z):\n",
    "        print(\"z is smaller\")\n",
    "elif(y<z<x):\n",
    "        print(\" y is smaller\")\n",
    "else:\n",
    "        print(\"x\")"
   ]
  },
  {
   "cell_type": "code",
   "execution_count": 10,
   "id": "91129874-7474-481a-abb0-9e4176fdcf64",
   "metadata": {},
   "outputs": [
    {
     "name": "stdout",
     "output_type": "stream",
     "text": [
      "enter a string ranu\n",
      "enter a string ranusaini\n"
     ]
    },
    {
     "name": "stdout",
     "output_type": "stream",
     "text": [
      "x is available in  y\n"
     ]
    }
   ],
   "source": [
    "x=input(\"enter a string\");\n",
    "y=input(\"enter a string\");\n",
    "if(x in y):\n",
    "        print(\"x is available in  y\")\n",
    "else:\n",
    "        print(\"x is not available in y\")"
   ]
  },
  {
   "cell_type": "code",
   "execution_count": 7,
   "id": "968d5cd2-1284-4571-8d8d-be20efb72c42",
   "metadata": {},
   "outputs": [
    {
     "name": "stdout",
     "output_type": "stream",
     "text": [
      "enter a charector A\n"
     ]
    },
    {
     "name": "stdout",
     "output_type": "stream",
     "text": [
      "x is a vowel\n"
     ]
    }
   ],
   "source": [
    "x=input(\"enter a charector\");\n",
    "if(x=='a' or x=='e' or  x=='i' or x=='o' or x=='u' or x=='A' ):\n",
    "        print(\"x is a vowel\")\n",
    "else:\n",
    "        print(\"x is not a vowel\")"
   ]
  },
  {
   "cell_type": "code",
   "execution_count": null,
   "id": "829953ca-9735-4f71-bff5-83cb3d8bad9b",
   "metadata": {},
   "outputs": [],
   "source": []
  }
 ],
 "metadata": {
  "kernelspec": {
   "display_name": "Python 3 (ipykernel)",
   "language": "python",
   "name": "python3"
  },
  "language_info": {
   "codemirror_mode": {
    "name": "ipython",
    "version": 3
   },
   "file_extension": ".py",
   "mimetype": "text/x-python",
   "name": "python",
   "nbconvert_exporter": "python",
   "pygments_lexer": "ipython3",
   "version": "3.10.11"
  }
 },
 "nbformat": 4,
 "nbformat_minor": 5
}
